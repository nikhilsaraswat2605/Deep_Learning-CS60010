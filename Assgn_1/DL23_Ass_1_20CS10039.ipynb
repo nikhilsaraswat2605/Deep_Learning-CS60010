{
  "cells": [
    {
      "attachments": {},
      "cell_type": "markdown",
      "metadata": {
        "id": "FBKdMbwfvq-W"
      },
      "source": [
        "# About: Deep Learning '23 Assignment 1\n",
        "\n",
        "\n",
        "We will perform Image Classification task on the MNIST dataset which has 70,000 28*28 images labelled into 10 classes. \n",
        "\n",
        "**Total Marks: 60**\n",
        "\n",
        "\n",
        "**Fill these**\n",
        "\n",
        "Name: `NIKHIL SARASWAT`\n",
        "\n",
        "Roll Number: `20CS10039`\n",
        "\n",
        "**Instructions:**\n",
        "\n",
        "1. We have left code cells blank for you to fill up with appropriate code. Do not add any extra code cells. Strictly follow the format and fill up the cells with the correct code. Refer to cell comments for what to fill in that cell.\n",
        "\n",
        "2. *Do not* use any training frameworks like PyTorch Lightning. This assignment will test your ability to write custom training loops.\n",
        "\n",
        "3. Save the notebook with cell outputs of all cells. The cell outputs  will be used for evaluating your submission.\n",
        "\n",
        "\n"
      ]
    },
    {
      "cell_type": "code",
      "execution_count": 1,
      "metadata": {
        "id": "b7yol97nxLq3"
      },
      "outputs": [],
      "source": [
        "import torch\n",
        "import torch.nn\n",
        "import random\n",
        "import numpy as np\n",
        "\n",
        "from torchvision import datasets, transforms\n",
        "from torch.utils.data import random_split, DataLoader\n",
        "\n",
        "\n",
        "# Add any other imports here\n",
        "import torch.optim as optim\n",
        "import matplotlib.pyplot as plt\n",
        "import torch.nn as nn\n",
        "\n",
        "# Set device to use GPU if available\n",
        "device = torch.device(\"cuda\" if torch.cuda.is_available() else \"cpu\")\n"
      ]
    },
    {
      "cell_type": "code",
      "execution_count": 2,
      "metadata": {
        "id": "Lv07aCHK0IhG"
      },
      "outputs": [],
      "source": [
        "SEED = 42\n",
        "torch.manual_seed(SEED)\n",
        "random.seed(SEED)\n",
        "np.random.seed(SEED)\n"
      ]
    },
    {
      "cell_type": "markdown",
      "metadata": {
        "id": "HU_56fBhx2H4"
      },
      "source": [
        "## Getting the data"
      ]
    },
    {
      "cell_type": "code",
      "execution_count": 3,
      "metadata": {
        "colab": {
          "base_uri": "https://localhost:8080/",
          "height": 440,
          "referenced_widgets": [
            "322a95b7f069469083cf2db792902571",
            "4e8c8d8e7860461eb3706ad27260aa05",
            "3c70835c0dd24475ac4c38a158bac8ce",
            "6684d67abc764167b38f7991758d889d",
            "e15aeb7b35eb4b26938f436ce82c6081",
            "0153235fb03c4ca982f27947810afd12",
            "0dc0e55ece324f2e9d28f6676bdcc450",
            "03ae82a80bc2474c94d97f4049965658",
            "0a0856c8c7664d18bb8cc077b12416cf",
            "cd641b2069c74cfa9743d3ec0b354f16",
            "1b7710ea7c8e4e17966bcc2dce9a8eb3",
            "01290f676b37410d95f8bce19327db3b",
            "096be60d2a194102b4e5f16826c63b53",
            "6941e7c7c5d744918d86029665045e3d",
            "14a4278682ca47068c1da0540c3e1564",
            "ca25fb0a088440c596d25f522f584f0f",
            "b040c5addf9f46b881a0749b103942f8",
            "1dbf7ccfc872451688e5bd5ab744746d",
            "a759f70beea04a6cbf89e481b6be15b8",
            "cd1ab49636d043aeb1de9966387e0ce8",
            "094ef12c12674b23b36ac84d8f95450e",
            "411f6694f94d4a23a9ee3b1f1ea0cdc6",
            "472b7e734802404386e388d8b96e9dd6",
            "5fe15de980384caba1809730f4ebcaa2",
            "e2d13f94aa5d4865a7e711af69191d35",
            "9d125722aca84c52b94524dd6122f503",
            "173b3dedc1d24d5890d1c3eb3d98117d",
            "ca032ab86f484503bba589ffc750bd7b",
            "bafff56ec06b4adea5834476d34c56ad",
            "e23cbfe0e360400fad08e3e2a0d62f05",
            "539ca8e61a21436c93e618b3c51c6703",
            "17263f99612c4e1abe0c6dd2d84e96ed",
            "1874064eeeec4f1a8494d73f82e72320",
            "5c83e6f2aa2d4018be22aaf87455ff1e",
            "993f06255c1a4e42aa0bdb703dd3a3c1",
            "2800b0d001e843179b8781a9b8c9e305",
            "4fbc47c3d58545b583cef35a9727838e",
            "b0c4fb9ae3204ab580842265a238eeb3",
            "efa56d3ab8314349bd0c32a66fdb0e75",
            "0c6aacb00f204101af9b19dd17e6741c",
            "41992560a2754e1397823a031a3687df",
            "641ae0ab856e407fb94a59bcde8073c7",
            "beddc72b97314cf88171b4da7e98ba10",
            "5531df374faa4faeac6744c6f2c09ea2"
          ]
        },
        "id": "CfV1pXYtyAfW",
        "outputId": "ea2aeb03-e118-4922-fb03-2795abb043c7"
      },
      "outputs": [
        {
          "name": "stdout",
          "output_type": "stream",
          "text": [
            "50000 10000 10000\n"
          ]
        }
      ],
      "source": [
        "train_data = datasets.MNIST(\n",
        "    'data', train=True, download=True, transform=transforms.ToTensor())\n",
        "test_data = datasets.MNIST(\n",
        "    'data', train=False, download=True, transform=transforms.ToTensor())\n",
        "train, val = random_split(\n",
        "    train_data, [50000, 10000], generator=torch.Generator().manual_seed(SEED))\n",
        "\n",
        "train_loader = DataLoader(train, batch_size=64, shuffle=True)\n",
        "val_loader = DataLoader(val, batch_size=64, shuffle=False)\n",
        "test_loader = DataLoader(test_data, batch_size=64, shuffle=False)\n",
        "\n",
        "print(len(train), len(val), len(test_data))\n"
      ]
    },
    {
      "cell_type": "markdown",
      "metadata": {
        "id": "4xqWpnwu0mzj"
      },
      "source": [
        "## Defining the Model [18 marks]\n",
        "\n",
        "You will define 3 models, with 2, 3, 4 hidden layers respectively. Lets call these models A, B, C. We will be studying the comparitive performance of these 3 models on this task.\n",
        "\n",
        "Use ReLU as the activation function for all three models. Later we will experiment with other activation functions as well."
      ]
    },
    {
      "cell_type": "markdown",
      "metadata": {
        "id": "30J_OmCoMm4S"
      },
      "source": [
        "### Model A\n",
        "\n",
        "Architecture:\n",
        "\n",
        "1. Input Layer \n",
        "2. Hidden Layer (Dimension Size - 64)\n",
        "3. Activation Function\n",
        "4. Hidden Layer (Dimension Size - 128)\n",
        "5. Activation Function\n",
        "6. Output Layer (Dimension Size = Number of Classes = 10)"
      ]
    },
    {
      "cell_type": "code",
      "execution_count": 4,
      "metadata": {
        "id": "WPGlwx0502pe"
      },
      "outputs": [],
      "source": [
        "# Model A Definition\n",
        "class ModelA(nn.Module):\n",
        "    def __init__(self, input_size=784, hidden_size1=64, hidden_size2=128, num_classes=10):\n",
        "        super(ModelA, self).__init__()\n",
        "        self.relu = nn.ReLU()\n",
        "        self.fc3 = nn.Linear(hidden_size2, num_classes)\n",
        "        self.fc2 = nn.Linear(hidden_size1, hidden_size2)\n",
        "        self.fc1 = nn.Linear(input_size, hidden_size1)\n",
        "\n",
        "    def forward(self, x):\n",
        "        x = x.reshape(x.shape[0], -1)\n",
        "        return self.fc3(self.relu(self.fc2(self.relu(self.fc1(x)))))\n",
        "\n",
        "\n",
        "# Fill in appropriately while maintaining the name of the variable\n",
        "modelA = ModelA().to(device)\n"
      ]
    },
    {
      "cell_type": "markdown",
      "metadata": {
        "id": "0K0nfqCvMqA9"
      },
      "source": [
        "### Model B\n",
        "\n",
        "\n",
        "Architecture:\n",
        "\n",
        "1. Input Layer \n",
        "2. Hidden Layer (Dimension Size - 64)\n",
        "3. Activation Function\n",
        "4. Hidden Layer (Dimension Size - 128)\n",
        "5. Activation Function\n",
        "6. Hidden Layer (Dimension Size - 256)\n",
        "7. Activation Function\n",
        "8. Output Layer (Dimension Size = Number of Classes = 10)"
      ]
    },
    {
      "cell_type": "code",
      "execution_count": 5,
      "metadata": {
        "id": "AD5W0AJ908tI"
      },
      "outputs": [],
      "source": [
        "# Model B Definiton\n",
        "class ModelB(nn.Module):\n",
        "    def __init__(self, input_size=784, hidden_size1=64, hidden_size2=128, hidden_size3=256, num_classes=10):\n",
        "        super(ModelB, self).__init__()\n",
        "        self.relu = nn.ReLU()\n",
        "        self.fc4 = nn.Linear(hidden_size3, num_classes)\n",
        "        self.fc3 = nn.Linear(hidden_size2, hidden_size3)\n",
        "        self.fc2 = nn.Linear(hidden_size1, hidden_size2)\n",
        "        self.fc1 = nn.Linear(input_size, hidden_size1)\n",
        "\n",
        "    def forward(self, x):\n",
        "        x = x.reshape(x.shape[0], -1)\n",
        "        return self.fc4(self.relu(self.fc3(self.relu(self.fc2(self.relu(self.fc1(x)))))))\n",
        "\n",
        "\n",
        "# Use the same variable name\n",
        "modelB = ModelB().to(device)\n"
      ]
    },
    {
      "cell_type": "markdown",
      "metadata": {
        "id": "TPDoGu9mMr_x"
      },
      "source": [
        "### Model C\n",
        "\n",
        "\n",
        "Architecture\n",
        "\n",
        "1. Input Layer \n",
        "2. Hidden Layer (Dimension Size - 64)\n",
        "3. Activation Function\n",
        "4. Hidden Layer (Dimension Size - 128)\n",
        "5. Activation Function\n",
        "6. Hidden Layer (Dimension Size - 256)\n",
        "7. Activation Function\n",
        "8. Hidden Layer (Dimension Size - 512)\n",
        "9. Activation Function\n",
        "10. Output Layer (Dimension Size = Number of Classes = 10)"
      ]
    },
    {
      "cell_type": "code",
      "execution_count": 6,
      "metadata": {
        "id": "FAaOMMjY1Jna"
      },
      "outputs": [],
      "source": [
        "# Model C Definition\n",
        "class ModelC(nn.Module):\n",
        "    def __init__(self, input_size=784, hidden_size1=64, hidden_size2=128, hidden_size3=256, hidden_size4=512, num_classes=10):\n",
        "        super(ModelC, self).__init__()\n",
        "        self.relu = nn.ReLU()\n",
        "        self.fc5 = nn.Linear(hidden_size4, num_classes)\n",
        "        self.fc4 = nn.Linear(hidden_size3, hidden_size4)\n",
        "        self.fc3 = nn.Linear(hidden_size2, hidden_size3)\n",
        "        self.fc2 = nn.Linear(hidden_size1, hidden_size2)\n",
        "        self.fc1 = nn.Linear(input_size, hidden_size1)\n",
        "\n",
        "    def forward(self, x):\n",
        "        x = x.reshape(x.shape[0], -1)\n",
        "        return self.fc5(self.relu(self.fc4(self.relu(self.fc3(self.relu(self.fc2(self.relu(self.fc1(x)))))))))\n",
        "\n",
        "\n",
        "# Use the same variable name\n",
        "modelC = ModelC().to(device)\n"
      ]
    },
    {
      "cell_type": "markdown",
      "metadata": {
        "id": "EFfgQVEz1Oqx"
      },
      "source": [
        "## Loss Function & Optimizer [2 marks]\n",
        "\n",
        "* Loss Function: Cross Entropy Loss\n",
        "* Optimizer : Adam\n",
        "\n",
        "Use PyTorch Library versions for these two."
      ]
    },
    {
      "cell_type": "code",
      "execution_count": 7,
      "metadata": {
        "id": "-z7ogUqL1WMV"
      },
      "outputs": [],
      "source": [
        "# Use the same variable names\n",
        "criterion = nn.CrossEntropyLoss()\n",
        "# we will change the optimizer later for other models according to their parameters\n",
        "optimizer = optim.Adam(modelA.parameters(), lr=0.001)\n"
      ]
    },
    {
      "cell_type": "markdown",
      "metadata": {
        "id": "OLnwW-h31oJa"
      },
      "source": [
        "## Training Loop [30 marks]\n",
        "\n",
        "We give you the freedom to choose Hyperparameters like learing rate, number of epochs etc, but take care to use the **same** hyperparameters for all the 3 models. Also clearly state the hyperparameters you have chosen\n",
        "\n",
        "For each model, You need to report these metrics: Train Loss, Val Loss, Train Accuracy, Val Accuracy at the end of each epoch.\n",
        "\n",
        "Also plot the graphs of the following (in separate cells)\n",
        "1. Train Loss & Val Loss V/s Epoch\n",
        "2. Train Accuracy & Val Accuracy V/s Epoch"
      ]
    },
    {
      "cell_type": "code",
      "execution_count": 8,
      "metadata": {
        "id": "3ZVpEI-N8L5X"
      },
      "outputs": [],
      "source": [
        "# Define the hyperparameters (same for all 3 models) here\n",
        "learning_rate = 0.001\n",
        "num_epochs = 15\n"
      ]
    },
    {
      "cell_type": "markdown",
      "metadata": {
        "id": "UMdreKgU24od"
      },
      "source": [
        "### Model A \n",
        "\n"
      ]
    },
    {
      "cell_type": "code",
      "execution_count": 9,
      "metadata": {
        "id": "iyJ75sLw2Z5n"
      },
      "outputs": [
        {
          "name": "stdout",
          "output_type": "stream",
          "text": [
            "Epoch: 1, Train Loss: 0.386, Train Acc: 0.889, Val Loss: 0.225, Val Acc: 0.935\n",
            "Epoch: 2, Train Loss: 0.172, Train Acc: 0.949, Val Loss: 0.165, Val Acc: 0.950\n",
            "Epoch: 3, Train Loss: 0.120, Train Acc: 0.964, Val Loss: 0.141, Val Acc: 0.957\n",
            "Epoch: 4, Train Loss: 0.091, Train Acc: 0.972, Val Loss: 0.120, Val Acc: 0.963\n",
            "Epoch: 5, Train Loss: 0.072, Train Acc: 0.977, Val Loss: 0.113, Val Acc: 0.966\n",
            "Epoch: 6, Train Loss: 0.060, Train Acc: 0.981, Val Loss: 0.106, Val Acc: 0.969\n",
            "Epoch: 7, Train Loss: 0.050, Train Acc: 0.984, Val Loss: 0.112, Val Acc: 0.968\n",
            "Epoch: 8, Train Loss: 0.042, Train Acc: 0.987, Val Loss: 0.102, Val Acc: 0.971\n",
            "Epoch: 9, Train Loss: 0.036, Train Acc: 0.989, Val Loss: 0.109, Val Acc: 0.970\n",
            "Epoch: 10, Train Loss: 0.031, Train Acc: 0.990, Val Loss: 0.112, Val Acc: 0.971\n",
            "Epoch: 11, Train Loss: 0.027, Train Acc: 0.991, Val Loss: 0.112, Val Acc: 0.970\n",
            "Epoch: 12, Train Loss: 0.026, Train Acc: 0.991, Val Loss: 0.109, Val Acc: 0.975\n",
            "Epoch: 13, Train Loss: 0.019, Train Acc: 0.994, Val Loss: 0.139, Val Acc: 0.969\n",
            "Epoch: 14, Train Loss: 0.019, Train Acc: 0.994, Val Loss: 0.122, Val Acc: 0.971\n",
            "Epoch: 15, Train Loss: 0.016, Train Acc: 0.995, Val Loss: 0.124, Val Acc: 0.971\n"
          ]
        }
      ],
      "source": [
        "# Training Loop for model A\n",
        "train_acc_list = []\n",
        "train_loss_list = []\n",
        "val_acc_list = []\n",
        "val_loss_list = []\n",
        "\n",
        "# set hyperparameters\n",
        "# set the optimizer for model A\n",
        "optimizer = optim.Adam(modelA.parameters(), lr=learning_rate)\n",
        "\n",
        "for epoch in range(num_epochs):  # loop over the dataset multiple times\n",
        "    train_loss = val_loss = train_acc = val_acc = 0.0\n",
        "\n",
        "    # train\n",
        "    modelA.train()\n",
        "    for _, data in enumerate(train_loader):\n",
        "        inputs, labels = data  # get the inputs\n",
        "        inputs, labels = inputs.to(device), labels.to(\n",
        "            device)  # move to device, e.g. GPU\n",
        "        optimizer.zero_grad()  # zero the parameter gradients\n",
        "        outputs = modelA(inputs)  # forward pass\n",
        "        loss = criterion(outputs, labels)  # calculate loss\n",
        "        loss.backward()  # backward pass\n",
        "        optimizer.step()  # update weights\n",
        "        # get the index of the max log-probability\n",
        "        _, pred = torch.max(outputs, 1)\n",
        "        # get the number of correct predictions\n",
        "        train_acc += (pred == labels).sum().item()\n",
        "        train_loss += loss.item()  # add the mini-batch training loss\n",
        "\n",
        "    # validation\n",
        "\n",
        "    modelA.eval()\n",
        "    for _, data in enumerate(val_loader):\n",
        "        inputs, labels = data  # get the inputs\n",
        "        inputs, labels = inputs.to(device), labels.to(\n",
        "            device)  # move to device, e.g. GPU\n",
        "        outputs = modelA(inputs)  # forward pass\n",
        "        loss = criterion(outputs, labels)  # calculate loss\n",
        "        # get the index of the max log-probability\n",
        "        _, pred = torch.max(outputs, 1)\n",
        "        # get the number of correct predictions\n",
        "        val_acc += (pred == labels).sum().item()\n",
        "        val_loss += loss.item()  # add the mini-batch training loss\n",
        "\n",
        "    train_acc = train_acc/len(train_loader.dataset)\n",
        "    train_acc_list.append(train_acc)\n",
        "    val_acc = val_acc/len(val_loader.dataset)\n",
        "    val_acc_list.append(val_acc)\n",
        "    train_loss = train_loss/len(train_loader)\n",
        "    train_loss_list.append(train_loss)\n",
        "    val_loss = val_loss/len(val_loader)\n",
        "    val_loss_list.append(val_loss)\n",
        "\n",
        "    #\n",
        "    print(\"Epoch: {}, Train Loss: {:.3f}, Train Acc: {:.3f}, Val Loss: {:.3f}, Val Acc: {:.3f}\".format(\n",
        "        epoch+1, train_loss, train_acc, val_loss, val_acc))\n",
        "    model_Accuracy__model = {'A': val_acc}\n"
      ]
    },
    {
      "cell_type": "code",
      "execution_count": 10,
      "metadata": {
        "id": "Gk8Atveg2nPj"
      },
      "outputs": [
        {
          "data": {
            "image/png": "[encoded data removed]",
            "text/plain": [
              "<Figure size 640x480 with 1 Axes>"
            ]
          },
          "metadata": {},
          "output_type": "display_data"
        }
      ],
      "source": [
        "# Plot Graph of Train & Val Loss vs Epoch (together in same plot) for model A\n",
        "plt.plot(train_loss_list, label='Train Loss')\n",
        "plt.plot(val_loss_list, label='Val Loss')\n",
        "plt.title('Train & Val Loss vs Epoch')\n",
        "plt.legend()\n",
        "plt.show()\n"
      ]
    },
    {
      "cell_type": "code",
      "execution_count": 11,
      "metadata": {
        "id": "VGTWAn_22n0m"
      },
      "outputs": [
        {
          "data": {
            "image/png": "[encoded data removed]",
            "text/plain": [
              "<Figure size 640x480 with 1 Axes>"
            ]
          },
          "metadata": {},
          "output_type": "display_data"
        }
      ],
      "source": [
        "# Plot Graph of Train & Val Accuracy vs Epoch (together in same plot) for model A\n",
        "plt.plot(train_acc_list, label='Train Acc')\n",
        "plt.plot(val_acc_list, label='Val Acc')\n",
        "plt.title('Train & Val Accuracy vs Epoch')\n",
        "plt.legend()\n",
        "plt.show()\n"
      ]
    },
    {
      "cell_type": "markdown",
      "metadata": {
        "id": "X-kUp7pk28n-"
      },
      "source": [
        "### Model B\n"
      ]
    },
    {
      "cell_type": "code",
      "execution_count": 12,
      "metadata": {
        "id": "jCmX8PqE22XP"
      },
      "outputs": [
        {
          "name": "stdout",
          "output_type": "stream",
          "text": [
            "Epoch: 1, Train Loss: 0.362, Train Acc: 0.889, Val Loss: 0.191, Val Acc: 0.944\n",
            "Epoch: 2, Train Loss: 0.142, Train Acc: 0.957, Val Loss: 0.142, Val Acc: 0.957\n",
            "Epoch: 3, Train Loss: 0.103, Train Acc: 0.968, Val Loss: 0.124, Val Acc: 0.961\n",
            "Epoch: 4, Train Loss: 0.081, Train Acc: 0.975, Val Loss: 0.129, Val Acc: 0.961\n",
            "Epoch: 5, Train Loss: 0.067, Train Acc: 0.979, Val Loss: 0.122, Val Acc: 0.966\n",
            "Epoch: 6, Train Loss: 0.055, Train Acc: 0.982, Val Loss: 0.113, Val Acc: 0.969\n",
            "Epoch: 7, Train Loss: 0.046, Train Acc: 0.985, Val Loss: 0.110, Val Acc: 0.969\n",
            "Epoch: 8, Train Loss: 0.040, Train Acc: 0.987, Val Loss: 0.107, Val Acc: 0.970\n",
            "Epoch: 9, Train Loss: 0.037, Train Acc: 0.988, Val Loss: 0.114, Val Acc: 0.969\n",
            "Epoch: 10, Train Loss: 0.034, Train Acc: 0.989, Val Loss: 0.133, Val Acc: 0.966\n",
            "Epoch: 11, Train Loss: 0.026, Train Acc: 0.991, Val Loss: 0.120, Val Acc: 0.971\n",
            "Epoch: 12, Train Loss: 0.025, Train Acc: 0.992, Val Loss: 0.117, Val Acc: 0.973\n",
            "Epoch: 13, Train Loss: 0.023, Train Acc: 0.992, Val Loss: 0.137, Val Acc: 0.970\n",
            "Epoch: 14, Train Loss: 0.020, Train Acc: 0.993, Val Loss: 0.132, Val Acc: 0.973\n",
            "Epoch: 15, Train Loss: 0.019, Train Acc: 0.993, Val Loss: 0.128, Val Acc: 0.971\n"
          ]
        }
      ],
      "source": [
        "# Training Loop for model B\n",
        "train_acc_list = []\n",
        "train_loss_list = []\n",
        "val_acc_list = []\n",
        "val_loss_list = []\n",
        "\n",
        "# set the optimizer for model B\n",
        "optimizer = optim.Adam(modelB.parameters(), lr=learning_rate)\n",
        "\n",
        "for epoch in range(num_epochs):  # loop over the dataset multiple times\n",
        "    # Train\n",
        "    train_loss = val_loss = train_acc = val_acc = 0.0  # set the initial values to 0\n",
        "\n",
        "    # train\n",
        "    modelB.train()  # set the model to training mode\n",
        "    for _, data in enumerate(train_loader):  # loop over the training data\n",
        "        inputs, labels = data  # get the inputs\n",
        "        inputs, labels = inputs.to(device), labels.to(\n",
        "            device)  # move to device, e.g. GPU\n",
        "        optimizer.zero_grad()  # zero the parameter gradients\n",
        "        outputs = modelB(inputs)  # forward pass\n",
        "        loss = criterion(outputs, labels)  # calculate loss\n",
        "        loss.backward()  # backward pass\n",
        "        optimizer.step()  # update weights\n",
        "        train_loss += loss.item()  # add the mini-batch training loss\n",
        "        # get the index of the max log-probability\n",
        "        _, pred = torch.max(outputs, 1)\n",
        "        # get the number of correct predictions\n",
        "        # add the mini-batch training accuracy\n",
        "        train_acc += (pred == labels).sum().item()\n",
        "\n",
        "    # Validation\n",
        "    modelB.eval()\n",
        "    for _, data in enumerate(val_loader):  # loop over the validation data\n",
        "        inputs, labels = data  # get the inputs\n",
        "        inputs, labels = inputs.to(device), labels.to(\n",
        "            device)  # move to device, e.g. GPU\n",
        "        outputs = modelB(inputs)  # forward pass\n",
        "        loss = criterion(outputs, labels)  # calculate loss\n",
        "        val_loss += loss.item()  # add the mini-batch validation loss\n",
        "        # get the index of the max log-probability\n",
        "        _, pred = torch.max(outputs, 1)\n",
        "        # add the mini-batch validation accuracy\n",
        "        val_acc += (pred == labels).sum().item()\n",
        "\n",
        "    # calculate the average training accuracy\n",
        "    train_acc = train_acc/len(train_loader.dataset)\n",
        "    # add the average training accuracy to the list\n",
        "    train_acc_list.append(train_acc)\n",
        "    # calculate the average validation accuracy\n",
        "    val_acc = val_acc/len(val_loader.dataset)\n",
        "    # add the average validation accuracy to the list\n",
        "    val_acc_list.append(val_acc)\n",
        "    # calculate the average training loss\n",
        "    train_loss = train_loss/len(train_loader)\n",
        "    # add the average training loss to the list\n",
        "    train_loss_list.append(train_loss)\n",
        "    # calculate the average validation loss\n",
        "    val_loss = val_loss/len(val_loader)\n",
        "    # add the average validation loss to the list\n",
        "    val_loss_list.append(val_loss)\n",
        "\n",
        "    # Print epoch results\n",
        "    print(\"Epoch: {}, Train Loss: {:.3f}, Train Acc: {:.3f}, Val Loss: {:.3f}, Val Acc: {:.3f}\".format(\n",
        "        epoch+1, train_loss, train_acc, val_loss, val_acc))\n",
        "    model_Accuracy__model.update({'B': val_acc})\n"
      ]
    },
    {
      "cell_type": "code",
      "execution_count": 13,
      "metadata": {
        "id": "9pfLjJrI22XQ"
      },
      "outputs": [
        {
          "data": {
            "image/png": "[encoded data removed]",
            "text/plain": [
              "<Figure size 640x480 with 1 Axes>"
            ]
          },
          "metadata": {},
          "output_type": "display_data"
        }
      ],
      "source": [
        "# Plot Graph of Train & Val Loss vs Epoch (together in same plot) for model B\n",
        "plt.plot(train_loss_list, label='Train Loss')\n",
        "plt.plot(val_loss_list, label='Val Loss')\n",
        "plt.title('Train & Val Loss vs Epoch')\n",
        "plt.legend()\n",
        "plt.show()\n"
      ]
    },
    {
      "cell_type": "code",
      "execution_count": 14,
      "metadata": {
        "id": "KOy6REpK22XQ"
      },
      "outputs": [
        {
          "data": {
            "image/png": "[encoded data removed]",
            "text/plain": [
              "<Figure size 640x480 with 1 Axes>"
            ]
          },
          "metadata": {},
          "output_type": "display_data"
        }
      ],
      "source": [
        "# Plot Graph of Train & Val Accuracy vs Epoch (together in same plot) for model B\n",
        "plt.plot(train_acc_list, label='Train Acc')\n",
        "plt.plot(val_acc_list, label='Val Acc')\n",
        "plt.title('Train & Val Accuracy vs Epoch')\n",
        "plt.legend()\n",
        "plt.show()\n"
      ]
    },
    {
      "cell_type": "markdown",
      "metadata": {
        "id": "4JslKXgq3AUT"
      },
      "source": [
        "### Model C\n"
      ]
    },
    {
      "cell_type": "code",
      "execution_count": 15,
      "metadata": {
        "id": "2m3w2F5J22mq"
      },
      "outputs": [
        {
          "name": "stdout",
          "output_type": "stream",
          "text": [
            "Epoch: 1, Train Loss: 0.346, Train Acc: 0.892, Val Loss: 0.169, Val Acc: 0.949\n",
            "Epoch: 2, Train Loss: 0.142, Train Acc: 0.956, Val Loss: 0.134, Val Acc: 0.959\n",
            "Epoch: 3, Train Loss: 0.101, Train Acc: 0.969, Val Loss: 0.127, Val Acc: 0.963\n",
            "Epoch: 4, Train Loss: 0.083, Train Acc: 0.974, Val Loss: 0.112, Val Acc: 0.968\n",
            "Epoch: 5, Train Loss: 0.071, Train Acc: 0.979, Val Loss: 0.106, Val Acc: 0.968\n",
            "Epoch: 6, Train Loss: 0.059, Train Acc: 0.982, Val Loss: 0.110, Val Acc: 0.970\n",
            "Epoch: 7, Train Loss: 0.054, Train Acc: 0.983, Val Loss: 0.106, Val Acc: 0.970\n",
            "Epoch: 8, Train Loss: 0.046, Train Acc: 0.985, Val Loss: 0.124, Val Acc: 0.968\n",
            "Epoch: 9, Train Loss: 0.039, Train Acc: 0.987, Val Loss: 0.113, Val Acc: 0.972\n",
            "Epoch: 10, Train Loss: 0.035, Train Acc: 0.989, Val Loss: 0.128, Val Acc: 0.971\n",
            "Epoch: 11, Train Loss: 0.033, Train Acc: 0.989, Val Loss: 0.116, Val Acc: 0.971\n",
            "Epoch: 12, Train Loss: 0.028, Train Acc: 0.991, Val Loss: 0.123, Val Acc: 0.970\n",
            "Epoch: 13, Train Loss: 0.024, Train Acc: 0.993, Val Loss: 0.139, Val Acc: 0.971\n",
            "Epoch: 14, Train Loss: 0.028, Train Acc: 0.991, Val Loss: 0.107, Val Acc: 0.972\n",
            "Epoch: 15, Train Loss: 0.022, Train Acc: 0.993, Val Loss: 0.136, Val Acc: 0.974\n"
          ]
        }
      ],
      "source": [
        "# Training Loop for model C\n",
        "train_acc_list = []\n",
        "train_loss_list = []\n",
        "val_acc_list = []\n",
        "val_loss_list = []\n",
        "\n",
        "# set the optimizer for model C\n",
        "optimizer = optim.Adam(modelC.parameters(), lr=learning_rate)\n",
        "\n",
        "for epoch in range(num_epochs):\n",
        "    # Train\n",
        "    train_loss = val_loss = train_acc = val_acc = 0.0  # set the initial values to 0\n",
        "\n",
        "    # train\n",
        "    modelC.train()\n",
        "    for _, data in enumerate(train_loader):\n",
        "        inputs, labels = data  # get the inputs\n",
        "        inputs, labels = inputs.to(device), labels.to(\n",
        "            device)  # move to device, e.g. GPU\n",
        "        optimizer.zero_grad()  # zero the parameter gradients\n",
        "        outputs = modelC(inputs)  # forward pass\n",
        "        loss = criterion(outputs, labels)  # calculate loss\n",
        "        loss.backward()  # backward pass\n",
        "        optimizer.step()  # update weights\n",
        "        train_loss += loss.item()  # add the mini-batch training loss\n",
        "        # get the index of the max log-probability\n",
        "        _, pred = torch.max(outputs, 1)\n",
        "        # add the mini-batch training accuracy\n",
        "        train_acc += (pred == labels).sum().item()\n",
        "\n",
        "    # Validation\n",
        "    modelC.eval()\n",
        "    for _, data in enumerate(val_loader):\n",
        "        inputs, labels = data  # get the inputs\n",
        "        inputs, labels = inputs.to(device), labels.to(\n",
        "            device)  # move to device, e.g. GPU\n",
        "        outputs = modelC(inputs)  # forward pass\n",
        "        loss = criterion(outputs, labels)  # calculate loss\n",
        "        val_loss += loss.item()  # add the mini-batch validation loss\n",
        "        # get the index of the max log-probability\n",
        "        _, pred = torch.max(outputs, 1)\n",
        "        # add the mini-batch validation accuracy\n",
        "        val_acc += (pred == labels).sum().item()\n",
        "\n",
        "    # calculate the average training accuracy\n",
        "    train_acc = train_acc/len(train_loader.dataset)\n",
        "    # add the average training accuracy to the list\n",
        "    train_acc_list.append(train_acc)\n",
        "    # calculate the average validation accuracy\n",
        "    val_acc = val_acc/len(val_loader.dataset)\n",
        "    # add the average validation accuracy to the list\n",
        "    val_acc_list.append(val_acc)\n",
        "    # calculate the average training loss\n",
        "    train_loss = train_loss/len(train_loader)\n",
        "    # add the average training loss to the list\n",
        "    train_loss_list.append(train_loss)\n",
        "    # calculate the average validation loss\n",
        "    val_loss = val_loss/len(val_loader)\n",
        "    val_loss_list.append(val_loss)\n",
        "\n",
        "    print(\"Epoch: {}, Train Loss: {:.3f}, Train Acc: {:.3f}, Val Loss: {:.3f}, Val Acc: {:.3f}\".format(\n",
        "        epoch+1, train_loss, train_acc, val_loss, val_acc))\n",
        "    model_Accuracy__model.update({'C': val_acc})\n"
      ]
    },
    {
      "cell_type": "code",
      "execution_count": 16,
      "metadata": {
        "id": "eN5XtgCl22mq"
      },
      "outputs": [
        {
          "data": {
            "image/png": "[encoded data removed]",
            "text/plain": [
              "<Figure size 640x480 with 1 Axes>"
            ]
          },
          "metadata": {},
          "output_type": "display_data"
        }
      ],
      "source": [
        "# Plot Graph of Train & Val Loss vs Epoch (together in same plot) for model C\n",
        "plt.plot(train_loss_list, label='Train Loss')\n",
        "plt.plot(val_loss_list, label='Val Loss')\n",
        "plt.title('Train & Val Loss vs Epoch')\n",
        "plt.legend()\n",
        "plt.show()\n"
      ]
    },
    {
      "cell_type": "code",
      "execution_count": 17,
      "metadata": {
        "id": "xwOen7-V22mr"
      },
      "outputs": [
        {
          "data": {
            "image/png": "[encoded data removed]",
            "text/plain": [
              "<Figure size 640x480 with 1 Axes>"
            ]
          },
          "metadata": {},
          "output_type": "display_data"
        }
      ],
      "source": [
        "# Plot Graph of Train & Val Accuracy vs Epoch (together in same plot) for model C\n",
        "plt.plot(train_acc_list, label='Train Acc')\n",
        "plt.plot(val_acc_list, label='Val Acc')\n",
        "plt.title('Train & Val Accuracy vs Epoch')\n",
        "plt.legend()\n",
        "plt.show()\n"
      ]
    },
    {
      "cell_type": "markdown",
      "metadata": {
        "id": "AZuT5E_r3LbK"
      },
      "source": [
        "## Choosing a Activation Function [10 marks]\n",
        "\n",
        "Based on the best performing model you found above, define 2 more models with these 2 activation functions (1 activation function is used throughout the model definiation). Use these Activation funcitons \n",
        "\n",
        "\n",
        "*   Tanh\n",
        "*   LeakyRELU"
      ]
    },
    {
      "cell_type": "code",
      "execution_count": 18,
      "metadata": {
        "id": "uhAK1dvg3vkf"
      },
      "outputs": [
        {
          "name": "stdout",
          "output_type": "stream",
          "text": [
            "ModelLeakyReLU(\n",
            "  (relu): LeakyReLU(negative_slope=0.01)\n",
            "  (fc4): Linear(in_features=256, out_features=10, bias=True)\n",
            "  (fc3): Linear(in_features=128, out_features=256, bias=True)\n",
            "  (fc2): Linear(in_features=64, out_features=128, bias=True)\n",
            "  (fc1): Linear(in_features=784, out_features=64, bias=True)\n",
            ")\n",
            "ModelTanh(\n",
            "  (relu): Tanh()\n",
            "  (fc4): Linear(in_features=256, out_features=10, bias=True)\n",
            "  (fc3): Linear(in_features=128, out_features=256, bias=True)\n",
            "  (fc2): Linear(in_features=64, out_features=128, bias=True)\n",
            "  (fc1): Linear(in_features=784, out_features=64, bias=True)\n",
            ")\n"
          ]
        }
      ],
      "source": [
        "# Leaky ReLU model definiton\n",
        "# Since Model B has the best accuracy, we will use it\n",
        "class ModelLeakyReLU(nn.Module):\n",
        "    def __init__(self, input_size=784, hidden_size1=64, hidden_size2=128, hidden_size3=256, num_classes=10):\n",
        "        super(ModelLeakyReLU, self).__init__()\n",
        "        self.relu = nn.LeakyReLU()\n",
        "        self.fc4 = nn.Linear(hidden_size3, num_classes)\n",
        "        self.fc3 = nn.Linear(hidden_size2, hidden_size3)\n",
        "        self.fc2 = nn.Linear(hidden_size1, hidden_size2)\n",
        "        self.fc1 = nn.Linear(input_size, hidden_size1)\n",
        "\n",
        "    def forward(self, x):\n",
        "        x = x.reshape(x.shape[0], -1)\n",
        "        return self.fc4(self.relu(self.fc3(self.relu(self.fc2(self.relu(self.fc1(x)))))))\n",
        "\n",
        "# Tanh model definition\n",
        "\n",
        "\n",
        "class ModelTanh(nn.Module):\n",
        "    def __init__(self, input_size=784, hidden_size1=64, hidden_size2=128, hidden_size3=256, num_classes=10):\n",
        "        super(ModelTanh, self).__init__()\n",
        "        self.relu = nn.Tanh()\n",
        "        self.fc4 = nn.Linear(hidden_size3, num_classes)\n",
        "        self.fc3 = nn.Linear(hidden_size2, hidden_size3)\n",
        "        self.fc2 = nn.Linear(hidden_size1, hidden_size2)\n",
        "        self.fc1 = nn.Linear(input_size, hidden_size1)\n",
        "\n",
        "    def forward(self, x):\n",
        "        x = x.reshape(x.shape[0], -1)\n",
        "        return self.fc4(self.relu(self.fc3(self.relu(self.fc2(self.relu(self.fc1(x)))))))\n",
        "\n",
        "\n",
        "# Maintain these variable names\n",
        "model_lrelu = ModelLeakyReLU().to(device)\n",
        "print(model_lrelu)\n",
        "model_tanh = ModelTanh().to(device)\n",
        "print(model_tanh)\n"
      ]
    },
    {
      "cell_type": "markdown",
      "metadata": {
        "id": "3P1fzs0P4Anx"
      },
      "source": [
        "### Training \n",
        "\n",
        "Train these two models with the same hyperparameters. Train in separate cells given below, and report the same metrics descrived previously (train_loss, val_loss, train_acc, val_acc)"
      ]
    },
    {
      "cell_type": "code",
      "execution_count": 19,
      "metadata": {
        "id": "-OAT_Rx64T0a"
      },
      "outputs": [
        {
          "name": "stdout",
          "output_type": "stream",
          "text": [
            "Epoch: 1, Train Loss: 0.342, Train Acc: 0.895, Val Loss: 0.174, Val Acc: 0.949\n",
            "Epoch: 2, Train Loss: 0.134, Train Acc: 0.959, Val Loss: 0.152, Val Acc: 0.954\n",
            "Epoch: 3, Train Loss: 0.096, Train Acc: 0.971, Val Loss: 0.120, Val Acc: 0.963\n",
            "Epoch: 4, Train Loss: 0.075, Train Acc: 0.976, Val Loss: 0.112, Val Acc: 0.966\n",
            "Epoch: 5, Train Loss: 0.063, Train Acc: 0.980, Val Loss: 0.122, Val Acc: 0.965\n",
            "Epoch: 6, Train Loss: 0.053, Train Acc: 0.983, Val Loss: 0.112, Val Acc: 0.968\n",
            "Epoch: 7, Train Loss: 0.042, Train Acc: 0.986, Val Loss: 0.132, Val Acc: 0.966\n",
            "Epoch: 8, Train Loss: 0.038, Train Acc: 0.988, Val Loss: 0.111, Val Acc: 0.970\n",
            "Epoch: 9, Train Loss: 0.033, Train Acc: 0.989, Val Loss: 0.120, Val Acc: 0.970\n",
            "Epoch: 10, Train Loss: 0.030, Train Acc: 0.990, Val Loss: 0.112, Val Acc: 0.971\n",
            "Epoch: 11, Train Loss: 0.027, Train Acc: 0.991, Val Loss: 0.127, Val Acc: 0.972\n",
            "Epoch: 12, Train Loss: 0.024, Train Acc: 0.992, Val Loss: 0.118, Val Acc: 0.974\n",
            "Epoch: 13, Train Loss: 0.023, Train Acc: 0.992, Val Loss: 0.124, Val Acc: 0.972\n",
            "Epoch: 14, Train Loss: 0.018, Train Acc: 0.994, Val Loss: 0.130, Val Acc: 0.972\n",
            "Epoch: 15, Train Loss: 0.019, Train Acc: 0.994, Val Loss: 0.151, Val Acc: 0.968\n"
          ]
        }
      ],
      "source": [
        "# Training Loop for LRELU\n",
        "train_acc_list = []\n",
        "train_loss_list = []\n",
        "val_acc_list = []\n",
        "val_loss_list = []\n",
        "\n",
        "optimizer = optim.Adam(model_lrelu.parameters(),\n",
        "                       lr=learning_rate)  # use Adam optimizer\n",
        "\n",
        "for epoch in range(num_epochs):\n",
        "    # Train\n",
        "    train_loss = val_loss = train_acc = val_acc = 0.0  # initialize the metrics\n",
        "\n",
        "    # train\n",
        "    model_lrelu.train()\n",
        "    for _, data in enumerate(train_loader):\n",
        "        inputs, labels = data  # get the inputs\n",
        "        inputs, labels = inputs.to(device), labels.to(\n",
        "            device)  # move to device, e.g. GPU\n",
        "        optimizer.zero_grad()  # clear the gradients\n",
        "        outputs = model_lrelu(inputs)  # forward pass\n",
        "        loss = criterion(outputs, labels)  # calculate loss\n",
        "        loss.backward()  # backward pass\n",
        "        optimizer.step()  # update the weights\n",
        "        # get the index of the max log-probability\n",
        "        _, pred = torch.max(outputs, 1)\n",
        "        # add the mini-batch training accuracy\n",
        "        train_acc += (pred == labels).sum().item()\n",
        "        train_loss += loss.item()  # add the mini-batch training loss\n",
        "\n",
        "    # Validation\n",
        "    model_lrelu.eval()\n",
        "    for _, data in enumerate(val_loader):\n",
        "        inputs, labels = data  # get the inputs\n",
        "        inputs, labels = inputs.to(device), labels.to(\n",
        "            device)  # move to device, e.g. GPU\n",
        "        outputs = model_lrelu(inputs)  # forward pass\n",
        "        loss = criterion(outputs, labels)  # calculate loss\n",
        "        # get the index of the max log-probability\n",
        "        _, pred = torch.max(outputs, 1)\n",
        "        # add the mini-batch validation accuracy\n",
        "        val_acc += (pred == labels).sum().item()\n",
        "        val_loss += loss.item()  # add the mini-batch validation loss\n",
        "\n",
        "    # calculate the average training accuracy\n",
        "    train_acc = train_acc/len(train_loader.dataset)\n",
        "    # add the average training accuracy to the list\n",
        "    train_acc_list.append(train_acc)\n",
        "    # calculate the average validation accuracy\n",
        "    val_acc = val_acc/len(val_loader.dataset)\n",
        "    # add the average validation accuracy to the list\n",
        "    val_acc_list.append(val_acc)\n",
        "    # calculate the average training loss\n",
        "    train_loss = train_loss/len(train_loader)\n",
        "    # add the average training loss to the list\n",
        "    train_loss_list.append(train_loss)\n",
        "    # calculate the average validation loss\n",
        "    val_loss = val_loss/len(val_loader)\n",
        "    # add the average validation loss to the list\n",
        "    val_loss_list.append(val_loss)\n",
        "\n",
        "    print(\"Epoch: {}, Train Loss: {:.3f}, Train Acc: {:.3f}, Val Loss: {:.3f}, Val Acc: {:.3f}\".format(\n",
        "        epoch+1, train_loss, train_acc, val_loss, val_acc))\n"
      ]
    },
    {
      "cell_type": "code",
      "execution_count": 20,
      "metadata": {
        "id": "QuobAEP44Wrz"
      },
      "outputs": [
        {
          "name": "stdout",
          "output_type": "stream",
          "text": [
            "Epoch: 1, Train Loss: 0.348, Train Acc: 0.893, Val Loss: 0.217, Val Acc: 0.936\n",
            "Epoch: 2, Train Loss: 0.162, Train Acc: 0.951, Val Loss: 0.164, Val Acc: 0.950\n",
            "Epoch: 3, Train Loss: 0.114, Train Acc: 0.965, Val Loss: 0.134, Val Acc: 0.959\n",
            "Epoch: 4, Train Loss: 0.090, Train Acc: 0.972, Val Loss: 0.125, Val Acc: 0.961\n",
            "Epoch: 5, Train Loss: 0.073, Train Acc: 0.977, Val Loss: 0.128, Val Acc: 0.962\n",
            "Epoch: 6, Train Loss: 0.060, Train Acc: 0.980, Val Loss: 0.115, Val Acc: 0.966\n",
            "Epoch: 7, Train Loss: 0.049, Train Acc: 0.985, Val Loss: 0.119, Val Acc: 0.968\n",
            "Epoch: 8, Train Loss: 0.042, Train Acc: 0.986, Val Loss: 0.111, Val Acc: 0.969\n",
            "Epoch: 9, Train Loss: 0.036, Train Acc: 0.988, Val Loss: 0.120, Val Acc: 0.970\n",
            "Epoch: 10, Train Loss: 0.030, Train Acc: 0.990, Val Loss: 0.117, Val Acc: 0.968\n",
            "Epoch: 11, Train Loss: 0.025, Train Acc: 0.992, Val Loss: 0.132, Val Acc: 0.968\n",
            "Epoch: 12, Train Loss: 0.022, Train Acc: 0.993, Val Loss: 0.128, Val Acc: 0.969\n",
            "Epoch: 13, Train Loss: 0.023, Train Acc: 0.992, Val Loss: 0.139, Val Acc: 0.966\n",
            "Epoch: 14, Train Loss: 0.019, Train Acc: 0.993, Val Loss: 0.144, Val Acc: 0.966\n",
            "Epoch: 15, Train Loss: 0.018, Train Acc: 0.994, Val Loss: 0.140, Val Acc: 0.968\n"
          ]
        }
      ],
      "source": [
        "# Training Loop for TanH\n",
        "train_loss_list = []\n",
        "val_loss_list = []\n",
        "train_acc_list = []\n",
        "val_acc_list = []\n",
        "\n",
        "optimizer = optim.Adam(model_tanh.parameters(),\n",
        "                       lr=learning_rate)  # use Adam optimizer\n",
        "\n",
        "for epoch in range(num_epochs):\n",
        "    # Train\n",
        "    train_loss = val_loss = train_acc = val_acc = 0.0  # initialize the metrics\n",
        "\n",
        "    # train\n",
        "    model_tanh.train()\n",
        "    for _, data in enumerate(train_loader):\n",
        "        inputs, labels = data  # get the inputs\n",
        "        inputs, labels = inputs.to(device), labels.to(\n",
        "            device)  # move to device, e.g. GPU\n",
        "        optimizer.zero_grad()  # clear the gradients\n",
        "        outputs = model_tanh(inputs)  # forward pass\n",
        "        loss = criterion(outputs, labels)  # calculate loss\n",
        "        loss.backward()  # backward pass\n",
        "        optimizer.step()  # update the weights\n",
        "        train_loss += loss.item()  # add the mini-batch training loss\n",
        "        # get the index of the max log-probability\n",
        "        _, pred = torch.max(outputs, 1)\n",
        "        # add the mini-batch training accuracy\n",
        "        train_acc += (pred == labels).sum().item()\n",
        "\n",
        "    # Validation\n",
        "    model_tanh.eval()  # set the model to evaluation mode\n",
        "    for _, data in enumerate(val_loader):\n",
        "        inputs, labels = data  # get the inputs\n",
        "        inputs, labels = inputs.to(device), labels.to(\n",
        "            device)  # move to device, e.g. GPU\n",
        "        outputs = model_tanh(inputs)  # forward pass\n",
        "        loss = criterion(outputs, labels)  # calculate loss\n",
        "        val_loss += loss.item()  # add the mini-batch validation loss\n",
        "        # get the index of the max log-probability\n",
        "        _, pred = torch.max(outputs, 1)\n",
        "        # add the mini-batch validation accuracy\n",
        "        val_acc += (pred == labels).sum().item()\n",
        "\n",
        "    # calculate the average training accuracy\n",
        "    train_acc = train_acc/len(train_loader.dataset)\n",
        "    # add the average training accuracy to the list\n",
        "    train_acc_list.append(train_acc)\n",
        "    # calculate the average validation accuracy\n",
        "    val_acc = val_acc/len(val_loader.dataset)\n",
        "    # add the average validation accuracy to the list\n",
        "    val_acc_list.append(val_acc)\n",
        "    # calculate the average training loss\n",
        "    train_loss = train_loss/len(train_loader)\n",
        "    # add the average training loss to the list\n",
        "    train_loss_list.append(train_loss)\n",
        "    # calculate the average validation loss\n",
        "    val_loss = val_loss/len(val_loader)\n",
        "    # add the average validation loss to the list\n",
        "    val_loss_list.append(val_loss)\n",
        "\n",
        "    print(\"Epoch: {}, Train Loss: {:.3f}, Train Acc: {:.3f}, Val Loss: {:.3f}, Val Acc: {:.3f}\".format(\n",
        "        epoch+1, train_loss, train_acc, val_loss, val_acc))\n"
      ]
    },
    {
      "cell_type": "markdown",
      "metadata": {
        "id": "WjH0LdKA4tYW"
      },
      "source": [
        "### Results on Test Set\n",
        "\n",
        "Report the Test Set classfication accuracy for the three activation functions (ReLU, LeakyReLU & TanH) and state which activation function gave the best performance on test set"
      ]
    },
    {
      "cell_type": "code",
      "execution_count": 21,
      "metadata": {
        "id": "gFeLvSrN4vT_"
      },
      "outputs": [],
      "source": [
        "# Define how to calculate Accuracy on Test Set\n",
        "def test_accuracy(model, test_loader):\n",
        "    model.eval()  # set the model to evaluation mode\n",
        "    test_running_correct = 0  # initialize the number of correct predictions\n",
        "    with torch.no_grad():  # do not calculate the gradients\n",
        "        for data in test_loader:  # iterate over the test set\n",
        "            inputs, labels = data  # get the inputs\n",
        "            inputs, labels = inputs.to(device), labels.to(\n",
        "                device)  # move to device, e.g. GPU\n",
        "            outputs = model(inputs)  # forward pass\n",
        "            # get the index of the max log-probability\n",
        "            _, preds = torch.max(outputs.data, 1)\n",
        "            # add the mini-batch test accuracy\n",
        "            test_running_correct += (preds == labels).sum().item()\n",
        "    test_accuracy = 100. * test_running_correct / \\\n",
        "        len(test_loader.dataset)  # calculate the test accuracy\n",
        "    return test_accuracy\n"
      ]
    },
    {
      "cell_type": "code",
      "execution_count": 22,
      "metadata": {
        "id": "q8dhJf4W7cKu"
      },
      "outputs": [
        {
          "name": "stdout",
          "output_type": "stream",
          "text": [
            "Test Accuracy of RELU model: 97.560\n"
          ]
        }
      ],
      "source": [
        "# Accuracy of RELU model\n",
        "# since modelB is the best model, we will use it to calculate the test accuracy of RELU model\n",
        "print(\"Test Accuracy of RELU model: {:.3f}\".format(\n",
        "    test_accuracy(modelB, test_loader)))\n"
      ]
    },
    {
      "cell_type": "code",
      "execution_count": 23,
      "metadata": {
        "id": "Uouc_R9t7cV3"
      },
      "outputs": [
        {
          "name": "stdout",
          "output_type": "stream",
          "text": [
            "Test Accuracy of RELU model: 96.800\n"
          ]
        }
      ],
      "source": [
        "# Accuracy of TanH model\n",
        "print(\"Test Accuracy of RELU model: {:.3f}\".format(\n",
        "    test_accuracy(model_tanh, test_loader)))\n"
      ]
    },
    {
      "cell_type": "code",
      "execution_count": 24,
      "metadata": {
        "id": "tjLBwh577chM"
      },
      "outputs": [
        {
          "name": "stdout",
          "output_type": "stream",
          "text": [
            "Test Accuracy of RELU model: 97.190\n"
          ]
        }
      ],
      "source": [
        "# Accuracy of LeakyReLU model\n",
        "print(\"Test Accuracy of RELU model: {:.3f}\".format(\n",
        "    test_accuracy(model_lrelu, test_loader)))\n"
      ]
    },
    {
      "attachments": {},
      "cell_type": "markdown",
      "metadata": {
        "id": "5xelRHJV7Lmj"
      },
      "source": [
        "Fill in these with the values you obtained from training.\n",
        "\n",
        "* ReLU model Test Set Accuracy: `97.560` %\n",
        "* TanH model Test Set Accuracy: `96.800` %\n",
        "* LeakReLU model Test Set Accuracy: `97.190` %"
      ]
    }
  ],
  "metadata": {
    "colab": {
      "provenance": []
    },
    "kernelspec": {
      "display_name": "Python 3",
      "language": "python",
      "name": "python3"
    },
    "language_info": {
      "codemirror_mode": {
        "name": "ipython",
        "version": 3
      },
      "file_extension": ".py",
      "mimetype": "text/x-python",
      "name": "python",
      "nbconvert_exporter": "python",
      "pygments_lexer": "ipython3",
      "version": "3.10.6"
    },
    "vscode": {
      "interpreter": {
        "hash": "916dbcbb3f70747c44a77c7bcd40155683ae19c65e1c03b4aa3499c5328201f1"
      }
    },
    "widgets": {
      "application/vnd.jupyter.widget-state+json": {
        "01290f676b37410d95f8bce19327db3b": {
          "model_module": "@jupyter-widgets/controls",
          "model_module_version": "1.5.0",
          "model_name": "HBoxModel",
          "state": {
            "_dom_classes": [],
            "_model_module": "@jupyter-widgets/controls",
            "_model_module_version": "1.5.0",
            "_model_name": "HBoxModel",
            "_view_count": null,
            "_view_module": "@jupyter-widgets/controls",
            "_view_module_version": "1.5.0",
            "_view_name": "HBoxView",
            "box_style": "",
            "children": [
              "IPY_MODEL_096be60d2a194102b4e5f16826c63b53",
              "IPY_MODEL_6941e7c7c5d744918d86029665045e3d",
              "IPY_MODEL_14a4278682ca47068c1da0540c3e1564"
            ],
            "layout": "IPY_MODEL_ca25fb0a088440c596d25f522f584f0f"
          }
        },
        "0153235fb03c4ca982f27947810afd12": {
          "model_module": "@jupyter-widgets/base",
          "model_module_version": "1.2.0",
          "model_name": "LayoutModel",
          "state": {
            "_model_module": "@jupyter-widgets/base",
            "_model_module_version": "1.2.0",
            "_model_name": "LayoutModel",
            "_view_count": null,
            "_view_module": "@jupyter-widgets/base",
            "_view_module_version": "1.2.0",
            "_view_name": "LayoutView",
            "align_content": null,
            "align_items": null,
            "align_self": null,
            "border": null,
            "bottom": null,
            "display": null,
            "flex": null,
            "flex_flow": null,
            "grid_area": null,
            "grid_auto_columns": null,
            "grid_auto_flow": null,
            "grid_auto_rows": null,
            "grid_column": null,
            "grid_gap": null,
            "grid_row": null,
            "grid_template_areas": null,
            "grid_template_columns": null,
            "grid_template_rows": null,
            "height": null,
            "justify_content": null,
            "justify_items": null,
            "left": null,
            "margin": null,
            "max_height": null,
            "max_width": null,
            "min_height": null,
            "min_width": null,
            "object_fit": null,
            "object_position": null,
            "order": null,
            "overflow": null,
            "overflow_x": null,
            "overflow_y": null,
            "padding": null,
            "right": null,
            "top": null,
            "visibility": null,
            "width": null
          }
        },
        "03ae82a80bc2474c94d97f4049965658": {
          "model_module": "@jupyter-widgets/base",
          "model_module_version": "1.2.0",
          "model_name": "LayoutModel",
          "state": {
            "_model_module": "@jupyter-widgets/base",
            "_model_module_version": "1.2.0",
            "_model_name": "LayoutModel",
            "_view_count": null,
            "_view_module": "@jupyter-widgets/base",
            "_view_module_version": "1.2.0",
            "_view_name": "LayoutView",
            "align_content": null,
            "align_items": null,
            "align_self": null,
            "border": null,
            "bottom": null,
            "display": null,
            "flex": null,
            "flex_flow": null,
            "grid_area": null,
            "grid_auto_columns": null,
            "grid_auto_flow": null,
            "grid_auto_rows": null,
            "grid_column": null,
            "grid_gap": null,
            "grid_row": null,
            "grid_template_areas": null,
            "grid_template_columns": null,
            "grid_template_rows": null,
            "height": null,
            "justify_content": null,
            "justify_items": null,
            "left": null,
            "margin": null,
            "max_height": null,
            "max_width": null,
            "min_height": null,
            "min_width": null,
            "object_fit": null,
            "object_position": null,
            "order": null,
            "overflow": null,
            "overflow_x": null,
            "overflow_y": null,
            "padding": null,
            "right": null,
            "top": null,
            "visibility": null,
            "width": null
          }
        },
        "094ef12c12674b23b36ac84d8f95450e": {
          "model_module": "@jupyter-widgets/base",
          "model_module_version": "1.2.0",
          "model_name": "LayoutModel",
          "state": {
            "_model_module": "@jupyter-widgets/base",
            "_model_module_version": "1.2.0",
            "_model_name": "LayoutModel",
            "_view_count": null,
            "_view_module": "@jupyter-widgets/base",
            "_view_module_version": "1.2.0",
            "_view_name": "LayoutView",
            "align_content": null,
            "align_items": null,
            "align_self": null,
            "border": null,
            "bottom": null,
            "display": null,
            "flex": null,
            "flex_flow": null,
            "grid_area": null,
            "grid_auto_columns": null,
            "grid_auto_flow": null,
            "grid_auto_rows": null,
            "grid_column": null,
            "grid_gap": null,
            "grid_row": null,
            "grid_template_areas": null,
            "grid_template_columns": null,
            "grid_template_rows": null,
            "height": null,
            "justify_content": null,
            "justify_items": null,
            "left": null,
            "margin": null,
            "max_height": null,
            "max_width": null,
            "min_height": null,
            "min_width": null,
            "object_fit": null,
            "object_position": null,
            "order": null,
            "overflow": null,
            "overflow_x": null,
            "overflow_y": null,
            "padding": null,
            "right": null,
            "top": null,
            "visibility": null,
            "width": null
          }
        },
        "096be60d2a194102b4e5f16826c63b53": {
          "model_module": "@jupyter-widgets/controls",
          "model_module_version": "1.5.0",
          "model_name": "HTMLModel",
          "state": {
            "_dom_classes": [],
            "_model_module": "@jupyter-widgets/controls",
            "_model_module_version": "1.5.0",
            "_model_name": "HTMLModel",
            "_view_count": null,
            "_view_module": "@jupyter-widgets/controls",
            "_view_module_version": "1.5.0",
            "_view_name": "HTMLView",
            "description": "",
            "description_tooltip": null,
            "layout": "IPY_MODEL_b040c5addf9f46b881a0749b103942f8",
            "placeholder": "​",
            "style": "IPY_MODEL_1dbf7ccfc872451688e5bd5ab744746d",
            "value": "100%"
          }
        },
        "0a0856c8c7664d18bb8cc077b12416cf": {
          "model_module": "@jupyter-widgets/controls",
          "model_module_version": "1.5.0",
          "model_name": "ProgressStyleModel",
          "state": {
            "_model_module": "@jupyter-widgets/controls",
            "_model_module_version": "1.5.0",
            "_model_name": "ProgressStyleModel",
            "_view_count": null,
            "_view_module": "@jupyter-widgets/base",
            "_view_module_version": "1.2.0",
            "_view_name": "StyleView",
            "bar_color": null,
            "description_width": ""
          }
        },
        "0c6aacb00f204101af9b19dd17e6741c": {
          "model_module": "@jupyter-widgets/controls",
          "model_module_version": "1.5.0",
          "model_name": "DescriptionStyleModel",
          "state": {
            "_model_module": "@jupyter-widgets/controls",
            "_model_module_version": "1.5.0",
            "_model_name": "DescriptionStyleModel",
            "_view_count": null,
            "_view_module": "@jupyter-widgets/base",
            "_view_module_version": "1.2.0",
            "_view_name": "StyleView",
            "description_width": ""
          }
        },
        "0dc0e55ece324f2e9d28f6676bdcc450": {
          "model_module": "@jupyter-widgets/controls",
          "model_module_version": "1.5.0",
          "model_name": "DescriptionStyleModel",
          "state": {
            "_model_module": "@jupyter-widgets/controls",
            "_model_module_version": "1.5.0",
            "_model_name": "DescriptionStyleModel",
            "_view_count": null,
            "_view_module": "@jupyter-widgets/base",
            "_view_module_version": "1.2.0",
            "_view_name": "StyleView",
            "description_width": ""
          }
        },
        "14a4278682ca47068c1da0540c3e1564": {
          "model_module": "@jupyter-widgets/controls",
          "model_module_version": "1.5.0",
          "model_name": "HTMLModel",
          "state": {
            "_dom_classes": [],
            "_model_module": "@jupyter-widgets/controls",
            "_model_module_version": "1.5.0",
            "_model_name": "HTMLModel",
            "_view_count": null,
            "_view_module": "@jupyter-widgets/controls",
            "_view_module_version": "1.5.0",
            "_view_name": "HTMLView",
            "description": "",
            "description_tooltip": null,
            "layout": "IPY_MODEL_094ef12c12674b23b36ac84d8f95450e",
            "placeholder": "​",
            "style": "IPY_MODEL_411f6694f94d4a23a9ee3b1f1ea0cdc6",
            "value": " 28881/28881 [00:00&lt;00:00, 1241818.75it/s]"
          }
        },
        "17263f99612c4e1abe0c6dd2d84e96ed": {
          "model_module": "@jupyter-widgets/base",
          "model_module_version": "1.2.0",
          "model_name": "LayoutModel",
          "state": {
            "_model_module": "@jupyter-widgets/base",
            "_model_module_version": "1.2.0",
            "_model_name": "LayoutModel",
            "_view_count": null,
            "_view_module": "@jupyter-widgets/base",
            "_view_module_version": "1.2.0",
            "_view_name": "LayoutView",
            "align_content": null,
            "align_items": null,
            "align_self": null,
            "border": null,
            "bottom": null,
            "display": null,
            "flex": null,
            "flex_flow": null,
            "grid_area": null,
            "grid_auto_columns": null,
            "grid_auto_flow": null,
            "grid_auto_rows": null,
            "grid_column": null,
            "grid_gap": null,
            "grid_row": null,
            "grid_template_areas": null,
            "grid_template_columns": null,
            "grid_template_rows": null,
            "height": null,
            "justify_content": null,
            "justify_items": null,
            "left": null,
            "margin": null,
            "max_height": null,
            "max_width": null,
            "min_height": null,
            "min_width": null,
            "object_fit": null,
            "object_position": null,
            "order": null,
            "overflow": null,
            "overflow_x": null,
            "overflow_y": null,
            "padding": null,
            "right": null,
            "top": null,
            "visibility": null,
            "width": null
          }
        },
        "173b3dedc1d24d5890d1c3eb3d98117d": {
          "model_module": "@jupyter-widgets/base",
          "model_module_version": "1.2.0",
          "model_name": "LayoutModel",
          "state": {
            "_model_module": "@jupyter-widgets/base",
            "_model_module_version": "1.2.0",
            "_model_name": "LayoutModel",
            "_view_count": null,
            "_view_module": "@jupyter-widgets/base",
            "_view_module_version": "1.2.0",
            "_view_name": "LayoutView",
            "align_content": null,
            "align_items": null,
            "align_self": null,
            "border": null,
            "bottom": null,
            "display": null,
            "flex": null,
            "flex_flow": null,
            "grid_area": null,
            "grid_auto_columns": null,
            "grid_auto_flow": null,
            "grid_auto_rows": null,
            "grid_column": null,
            "grid_gap": null,
            "grid_row": null,
            "grid_template_areas": null,
            "grid_template_columns": null,
            "grid_template_rows": null,
            "height": null,
            "justify_content": null,
            "justify_items": null,
            "left": null,
            "margin": null,
            "max_height": null,
            "max_width": null,
            "min_height": null,
            "min_width": null,
            "object_fit": null,
            "object_position": null,
            "order": null,
            "overflow": null,
            "overflow_x": null,
            "overflow_y": null,
            "padding": null,
            "right": null,
            "top": null,
            "visibility": null,
            "width": null
          }
        },
        "1874064eeeec4f1a8494d73f82e72320": {
          "model_module": "@jupyter-widgets/controls",
          "model_module_version": "1.5.0",
          "model_name": "DescriptionStyleModel",
          "state": {
            "_model_module": "@jupyter-widgets/controls",
            "_model_module_version": "1.5.0",
            "_model_name": "DescriptionStyleModel",
            "_view_count": null,
            "_view_module": "@jupyter-widgets/base",
            "_view_module_version": "1.2.0",
            "_view_name": "StyleView",
            "description_width": ""
          }
        },
        "1b7710ea7c8e4e17966bcc2dce9a8eb3": {
          "model_module": "@jupyter-widgets/controls",
          "model_module_version": "1.5.0",
          "model_name": "DescriptionStyleModel",
          "state": {
            "_model_module": "@jupyter-widgets/controls",
            "_model_module_version": "1.5.0",
            "_model_name": "DescriptionStyleModel",
            "_view_count": null,
            "_view_module": "@jupyter-widgets/base",
            "_view_module_version": "1.2.0",
            "_view_name": "StyleView",
            "description_width": ""
          }
        },
        "1dbf7ccfc872451688e5bd5ab744746d": {
          "model_module": "@jupyter-widgets/controls",
          "model_module_version": "1.5.0",
          "model_name": "DescriptionStyleModel",
          "state": {
            "_model_module": "@jupyter-widgets/controls",
            "_model_module_version": "1.5.0",
            "_model_name": "DescriptionStyleModel",
            "_view_count": null,
            "_view_module": "@jupyter-widgets/base",
            "_view_module_version": "1.2.0",
            "_view_name": "StyleView",
            "description_width": ""
          }
        },
        "2800b0d001e843179b8781a9b8c9e305": {
          "model_module": "@jupyter-widgets/controls",
          "model_module_version": "1.5.0",
          "model_name": "FloatProgressModel",
          "state": {
            "_dom_classes": [],
            "_model_module": "@jupyter-widgets/controls",
            "_model_module_version": "1.5.0",
            "_model_name": "FloatProgressModel",
            "_view_count": null,
            "_view_module": "@jupyter-widgets/controls",
            "_view_module_version": "1.5.0",
            "_view_name": "ProgressView",
            "bar_style": "success",
            "description": "",
            "description_tooltip": null,
            "layout": "IPY_MODEL_41992560a2754e1397823a031a3687df",
            "max": 4542,
            "min": 0,
            "orientation": "horizontal",
            "style": "IPY_MODEL_641ae0ab856e407fb94a59bcde8073c7",
            "value": 4542
          }
        },
        "322a95b7f069469083cf2db792902571": {
          "model_module": "@jupyter-widgets/controls",
          "model_module_version": "1.5.0",
          "model_name": "HBoxModel",
          "state": {
            "_dom_classes": [],
            "_model_module": "@jupyter-widgets/controls",
            "_model_module_version": "1.5.0",
            "_model_name": "HBoxModel",
            "_view_count": null,
            "_view_module": "@jupyter-widgets/controls",
            "_view_module_version": "1.5.0",
            "_view_name": "HBoxView",
            "box_style": "",
            "children": [
              "IPY_MODEL_4e8c8d8e7860461eb3706ad27260aa05",
              "IPY_MODEL_3c70835c0dd24475ac4c38a158bac8ce",
              "IPY_MODEL_6684d67abc764167b38f7991758d889d"
            ],
            "layout": "IPY_MODEL_e15aeb7b35eb4b26938f436ce82c6081"
          }
        },
        "3c70835c0dd24475ac4c38a158bac8ce": {
          "model_module": "@jupyter-widgets/controls",
          "model_module_version": "1.5.0",
          "model_name": "FloatProgressModel",
          "state": {
            "_dom_classes": [],
            "_model_module": "@jupyter-widgets/controls",
            "_model_module_version": "1.5.0",
            "_model_name": "FloatProgressModel",
            "_view_count": null,
            "_view_module": "@jupyter-widgets/controls",
            "_view_module_version": "1.5.0",
            "_view_name": "ProgressView",
            "bar_style": "success",
            "description": "",
            "description_tooltip": null,
            "layout": "IPY_MODEL_03ae82a80bc2474c94d97f4049965658",
            "max": 9912422,
            "min": 0,
            "orientation": "horizontal",
            "style": "IPY_MODEL_0a0856c8c7664d18bb8cc077b12416cf",
            "value": 9912422
          }
        },
        "411f6694f94d4a23a9ee3b1f1ea0cdc6": {
          "model_module": "@jupyter-widgets/controls",
          "model_module_version": "1.5.0",
          "model_name": "DescriptionStyleModel",
          "state": {
            "_model_module": "@jupyter-widgets/controls",
            "_model_module_version": "1.5.0",
            "_model_name": "DescriptionStyleModel",
            "_view_count": null,
            "_view_module": "@jupyter-widgets/base",
            "_view_module_version": "1.2.0",
            "_view_name": "StyleView",
            "description_width": ""
          }
        },
        "41992560a2754e1397823a031a3687df": {
          "model_module": "@jupyter-widgets/base",
          "model_module_version": "1.2.0",
          "model_name": "LayoutModel",
          "state": {
            "_model_module": "@jupyter-widgets/base",
            "_model_module_version": "1.2.0",
            "_model_name": "LayoutModel",
            "_view_count": null,
            "_view_module": "@jupyter-widgets/base",
            "_view_module_version": "1.2.0",
            "_view_name": "LayoutView",
            "align_content": null,
            "align_items": null,
            "align_self": null,
            "border": null,
            "bottom": null,
            "display": null,
            "flex": null,
            "flex_flow": null,
            "grid_area": null,
            "grid_auto_columns": null,
            "grid_auto_flow": null,
            "grid_auto_rows": null,
            "grid_column": null,
            "grid_gap": null,
            "grid_row": null,
            "grid_template_areas": null,
            "grid_template_columns": null,
            "grid_template_rows": null,
            "height": null,
            "justify_content": null,
            "justify_items": null,
            "left": null,
            "margin": null,
            "max_height": null,
            "max_width": null,
            "min_height": null,
            "min_width": null,
            "object_fit": null,
            "object_position": null,
            "order": null,
            "overflow": null,
            "overflow_x": null,
            "overflow_y": null,
            "padding": null,
            "right": null,
            "top": null,
            "visibility": null,
            "width": null
          }
        },
        "472b7e734802404386e388d8b96e9dd6": {
          "model_module": "@jupyter-widgets/controls",
          "model_module_version": "1.5.0",
          "model_name": "HBoxModel",
          "state": {
            "_dom_classes": [],
            "_model_module": "@jupyter-widgets/controls",
            "_model_module_version": "1.5.0",
            "_model_name": "HBoxModel",
            "_view_count": null,
            "_view_module": "@jupyter-widgets/controls",
            "_view_module_version": "1.5.0",
            "_view_name": "HBoxView",
            "box_style": "",
            "children": [
              "IPY_MODEL_5fe15de980384caba1809730f4ebcaa2",
              "IPY_MODEL_e2d13f94aa5d4865a7e711af69191d35",
              "IPY_MODEL_9d125722aca84c52b94524dd6122f503"
            ],
            "layout": "IPY_MODEL_173b3dedc1d24d5890d1c3eb3d98117d"
          }
        },
        "4e8c8d8e7860461eb3706ad27260aa05": {
          "model_module": "@jupyter-widgets/controls",
          "model_module_version": "1.5.0",
          "model_name": "HTMLModel",
          "state": {
            "_dom_classes": [],
            "_model_module": "@jupyter-widgets/controls",
            "_model_module_version": "1.5.0",
            "_model_name": "HTMLModel",
            "_view_count": null,
            "_view_module": "@jupyter-widgets/controls",
            "_view_module_version": "1.5.0",
            "_view_name": "HTMLView",
            "description": "",
            "description_tooltip": null,
            "layout": "IPY_MODEL_0153235fb03c4ca982f27947810afd12",
            "placeholder": "​",
            "style": "IPY_MODEL_0dc0e55ece324f2e9d28f6676bdcc450",
            "value": "100%"
          }
        },
        "4fbc47c3d58545b583cef35a9727838e": {
          "model_module": "@jupyter-widgets/controls",
          "model_module_version": "1.5.0",
          "model_name": "HTMLModel",
          "state": {
            "_dom_classes": [],
            "_model_module": "@jupyter-widgets/controls",
            "_model_module_version": "1.5.0",
            "_model_name": "HTMLModel",
            "_view_count": null,
            "_view_module": "@jupyter-widgets/controls",
            "_view_module_version": "1.5.0",
            "_view_name": "HTMLView",
            "description": "",
            "description_tooltip": null,
            "layout": "IPY_MODEL_beddc72b97314cf88171b4da7e98ba10",
            "placeholder": "​",
            "style": "IPY_MODEL_5531df374faa4faeac6744c6f2c09ea2",
            "value": " 4542/4542 [00:00&lt;00:00, 213179.01it/s]"
          }
        },
        "539ca8e61a21436c93e618b3c51c6703": {
          "model_module": "@jupyter-widgets/controls",
          "model_module_version": "1.5.0",
          "model_name": "ProgressStyleModel",
          "state": {
            "_model_module": "@jupyter-widgets/controls",
            "_model_module_version": "1.5.0",
            "_model_name": "ProgressStyleModel",
            "_view_count": null,
            "_view_module": "@jupyter-widgets/base",
            "_view_module_version": "1.2.0",
            "_view_name": "StyleView",
            "bar_color": null,
            "description_width": ""
          }
        },
        "5531df374faa4faeac6744c6f2c09ea2": {
          "model_module": "@jupyter-widgets/controls",
          "model_module_version": "1.5.0",
          "model_name": "DescriptionStyleModel",
          "state": {
            "_model_module": "@jupyter-widgets/controls",
            "_model_module_version": "1.5.0",
            "_model_name": "DescriptionStyleModel",
            "_view_count": null,
            "_view_module": "@jupyter-widgets/base",
            "_view_module_version": "1.2.0",
            "_view_name": "StyleView",
            "description_width": ""
          }
        },
        "5c83e6f2aa2d4018be22aaf87455ff1e": {
          "model_module": "@jupyter-widgets/controls",
          "model_module_version": "1.5.0",
          "model_name": "HBoxModel",
          "state": {
            "_dom_classes": [],
            "_model_module": "@jupyter-widgets/controls",
            "_model_module_version": "1.5.0",
            "_model_name": "HBoxModel",
            "_view_count": null,
            "_view_module": "@jupyter-widgets/controls",
            "_view_module_version": "1.5.0",
            "_view_name": "HBoxView",
            "box_style": "",
            "children": [
              "IPY_MODEL_993f06255c1a4e42aa0bdb703dd3a3c1",
              "IPY_MODEL_2800b0d001e843179b8781a9b8c9e305",
              "IPY_MODEL_4fbc47c3d58545b583cef35a9727838e"
            ],
            "layout": "IPY_MODEL_b0c4fb9ae3204ab580842265a238eeb3"
          }
        },
        "5fe15de980384caba1809730f4ebcaa2": {
          "model_module": "@jupyter-widgets/controls",
          "model_module_version": "1.5.0",
          "model_name": "HTMLModel",
          "state": {
            "_dom_classes": [],
            "_model_module": "@jupyter-widgets/controls",
            "_model_module_version": "1.5.0",
            "_model_name": "HTMLModel",
            "_view_count": null,
            "_view_module": "@jupyter-widgets/controls",
            "_view_module_version": "1.5.0",
            "_view_name": "HTMLView",
            "description": "",
            "description_tooltip": null,
            "layout": "IPY_MODEL_ca032ab86f484503bba589ffc750bd7b",
            "placeholder": "​",
            "style": "IPY_MODEL_bafff56ec06b4adea5834476d34c56ad",
            "value": "100%"
          }
        },
        "641ae0ab856e407fb94a59bcde8073c7": {
          "model_module": "@jupyter-widgets/controls",
          "model_module_version": "1.5.0",
          "model_name": "ProgressStyleModel",
          "state": {
            "_model_module": "@jupyter-widgets/controls",
            "_model_module_version": "1.5.0",
            "_model_name": "ProgressStyleModel",
            "_view_count": null,
            "_view_module": "@jupyter-widgets/base",
            "_view_module_version": "1.2.0",
            "_view_name": "StyleView",
            "bar_color": null,
            "description_width": ""
          }
        },
        "6684d67abc764167b38f7991758d889d": {
          "model_module": "@jupyter-widgets/controls",
          "model_module_version": "1.5.0",
          "model_name": "HTMLModel",
          "state": {
            "_dom_classes": [],
            "_model_module": "@jupyter-widgets/controls",
            "_model_module_version": "1.5.0",
            "_model_name": "HTMLModel",
            "_view_count": null,
            "_view_module": "@jupyter-widgets/controls",
            "_view_module_version": "1.5.0",
            "_view_name": "HTMLView",
            "description": "",
            "description_tooltip": null,
            "layout": "IPY_MODEL_cd641b2069c74cfa9743d3ec0b354f16",
            "placeholder": "​",
            "style": "IPY_MODEL_1b7710ea7c8e4e17966bcc2dce9a8eb3",
            "value": " 9912422/9912422 [00:00&lt;00:00, 19925458.55it/s]"
          }
        },
        "6941e7c7c5d744918d86029665045e3d": {
          "model_module": "@jupyter-widgets/controls",
          "model_module_version": "1.5.0",
          "model_name": "FloatProgressModel",
          "state": {
            "_dom_classes": [],
            "_model_module": "@jupyter-widgets/controls",
            "_model_module_version": "1.5.0",
            "_model_name": "FloatProgressModel",
            "_view_count": null,
            "_view_module": "@jupyter-widgets/controls",
            "_view_module_version": "1.5.0",
            "_view_name": "ProgressView",
            "bar_style": "success",
            "description": "",
            "description_tooltip": null,
            "layout": "IPY_MODEL_a759f70beea04a6cbf89e481b6be15b8",
            "max": 28881,
            "min": 0,
            "orientation": "horizontal",
            "style": "IPY_MODEL_cd1ab49636d043aeb1de9966387e0ce8",
            "value": 28881
          }
        },
        "993f06255c1a4e42aa0bdb703dd3a3c1": {
          "model_module": "@jupyter-widgets/controls",
          "model_module_version": "1.5.0",
          "model_name": "HTMLModel",
          "state": {
            "_dom_classes": [],
            "_model_module": "@jupyter-widgets/controls",
            "_model_module_version": "1.5.0",
            "_model_name": "HTMLModel",
            "_view_count": null,
            "_view_module": "@jupyter-widgets/controls",
            "_view_module_version": "1.5.0",
            "_view_name": "HTMLView",
            "description": "",
            "description_tooltip": null,
            "layout": "IPY_MODEL_efa56d3ab8314349bd0c32a66fdb0e75",
            "placeholder": "​",
            "style": "IPY_MODEL_0c6aacb00f204101af9b19dd17e6741c",
            "value": "100%"
          }
        },
        "9d125722aca84c52b94524dd6122f503": {
          "model_module": "@jupyter-widgets/controls",
          "model_module_version": "1.5.0",
          "model_name": "HTMLModel",
          "state": {
            "_dom_classes": [],
            "_model_module": "@jupyter-widgets/controls",
            "_model_module_version": "1.5.0",
            "_model_name": "HTMLModel",
            "_view_count": null,
            "_view_module": "@jupyter-widgets/controls",
            "_view_module_version": "1.5.0",
            "_view_name": "HTMLView",
            "description": "",
            "description_tooltip": null,
            "layout": "IPY_MODEL_17263f99612c4e1abe0c6dd2d84e96ed",
            "placeholder": "​",
            "style": "IPY_MODEL_1874064eeeec4f1a8494d73f82e72320",
            "value": " 1648877/1648877 [00:00&lt;00:00, 18636293.91it/s]"
          }
        },
        "a759f70beea04a6cbf89e481b6be15b8": {
          "model_module": "@jupyter-widgets/base",
          "model_module_version": "1.2.0",
          "model_name": "LayoutModel",
          "state": {
            "_model_module": "@jupyter-widgets/base",
            "_model_module_version": "1.2.0",
            "_model_name": "LayoutModel",
            "_view_count": null,
            "_view_module": "@jupyter-widgets/base",
            "_view_module_version": "1.2.0",
            "_view_name": "LayoutView",
            "align_content": null,
            "align_items": null,
            "align_self": null,
            "border": null,
            "bottom": null,
            "display": null,
            "flex": null,
            "flex_flow": null,
            "grid_area": null,
            "grid_auto_columns": null,
            "grid_auto_flow": null,
            "grid_auto_rows": null,
            "grid_column": null,
            "grid_gap": null,
            "grid_row": null,
            "grid_template_areas": null,
            "grid_template_columns": null,
            "grid_template_rows": null,
            "height": null,
            "justify_content": null,
            "justify_items": null,
            "left": null,
            "margin": null,
            "max_height": null,
            "max_width": null,
            "min_height": null,
            "min_width": null,
            "object_fit": null,
            "object_position": null,
            "order": null,
            "overflow": null,
            "overflow_x": null,
            "overflow_y": null,
            "padding": null,
            "right": null,
            "top": null,
            "visibility": null,
            "width": null
          }
        },
        "b040c5addf9f46b881a0749b103942f8": {
          "model_module": "@jupyter-widgets/base",
          "model_module_version": "1.2.0",
          "model_name": "LayoutModel",
          "state": {
            "_model_module": "@jupyter-widgets/base",
            "_model_module_version": "1.2.0",
            "_model_name": "LayoutModel",
            "_view_count": null,
            "_view_module": "@jupyter-widgets/base",
            "_view_module_version": "1.2.0",
            "_view_name": "LayoutView",
            "align_content": null,
            "align_items": null,
            "align_self": null,
            "border": null,
            "bottom": null,
            "display": null,
            "flex": null,
            "flex_flow": null,
            "grid_area": null,
            "grid_auto_columns": null,
            "grid_auto_flow": null,
            "grid_auto_rows": null,
            "grid_column": null,
            "grid_gap": null,
            "grid_row": null,
            "grid_template_areas": null,
            "grid_template_columns": null,
            "grid_template_rows": null,
            "height": null,
            "justify_content": null,
            "justify_items": null,
            "left": null,
            "margin": null,
            "max_height": null,
            "max_width": null,
            "min_height": null,
            "min_width": null,
            "object_fit": null,
            "object_position": null,
            "order": null,
            "overflow": null,
            "overflow_x": null,
            "overflow_y": null,
            "padding": null,
            "right": null,
            "top": null,
            "visibility": null,
            "width": null
          }
        },
        "b0c4fb9ae3204ab580842265a238eeb3": {
          "model_module": "@jupyter-widgets/base",
          "model_module_version": "1.2.0",
          "model_name": "LayoutModel",
          "state": {
            "_model_module": "@jupyter-widgets/base",
            "_model_module_version": "1.2.0",
            "_model_name": "LayoutModel",
            "_view_count": null,
            "_view_module": "@jupyter-widgets/base",
            "_view_module_version": "1.2.0",
            "_view_name": "LayoutView",
            "align_content": null,
            "align_items": null,
            "align_self": null,
            "border": null,
            "bottom": null,
            "display": null,
            "flex": null,
            "flex_flow": null,
            "grid_area": null,
            "grid_auto_columns": null,
            "grid_auto_flow": null,
            "grid_auto_rows": null,
            "grid_column": null,
            "grid_gap": null,
            "grid_row": null,
            "grid_template_areas": null,
            "grid_template_columns": null,
            "grid_template_rows": null,
            "height": null,
            "justify_content": null,
            "justify_items": null,
            "left": null,
            "margin": null,
            "max_height": null,
            "max_width": null,
            "min_height": null,
            "min_width": null,
            "object_fit": null,
            "object_position": null,
            "order": null,
            "overflow": null,
            "overflow_x": null,
            "overflow_y": null,
            "padding": null,
            "right": null,
            "top": null,
            "visibility": null,
            "width": null
          }
        },
        "bafff56ec06b4adea5834476d34c56ad": {
          "model_module": "@jupyter-widgets/controls",
          "model_module_version": "1.5.0",
          "model_name": "DescriptionStyleModel",
          "state": {
            "_model_module": "@jupyter-widgets/controls",
            "_model_module_version": "1.5.0",
            "_model_name": "DescriptionStyleModel",
            "_view_count": null,
            "_view_module": "@jupyter-widgets/base",
            "_view_module_version": "1.2.0",
            "_view_name": "StyleView",
            "description_width": ""
          }
        },
        "beddc72b97314cf88171b4da7e98ba10": {
          "model_module": "@jupyter-widgets/base",
          "model_module_version": "1.2.0",
          "model_name": "LayoutModel",
          "state": {
            "_model_module": "@jupyter-widgets/base",
            "_model_module_version": "1.2.0",
            "_model_name": "LayoutModel",
            "_view_count": null,
            "_view_module": "@jupyter-widgets/base",
            "_view_module_version": "1.2.0",
            "_view_name": "LayoutView",
            "align_content": null,
            "align_items": null,
            "align_self": null,
            "border": null,
            "bottom": null,
            "display": null,
            "flex": null,
            "flex_flow": null,
            "grid_area": null,
            "grid_auto_columns": null,
            "grid_auto_flow": null,
            "grid_auto_rows": null,
            "grid_column": null,
            "grid_gap": null,
            "grid_row": null,
            "grid_template_areas": null,
            "grid_template_columns": null,
            "grid_template_rows": null,
            "height": null,
            "justify_content": null,
            "justify_items": null,
            "left": null,
            "margin": null,
            "max_height": null,
            "max_width": null,
            "min_height": null,
            "min_width": null,
            "object_fit": null,
            "object_position": null,
            "order": null,
            "overflow": null,
            "overflow_x": null,
            "overflow_y": null,
            "padding": null,
            "right": null,
            "top": null,
            "visibility": null,
            "width": null
          }
        },
        "ca032ab86f484503bba589ffc750bd7b": {
          "model_module": "@jupyter-widgets/base",
          "model_module_version": "1.2.0",
          "model_name": "LayoutModel",
          "state": {
            "_model_module": "@jupyter-widgets/base",
            "_model_module_version": "1.2.0",
            "_model_name": "LayoutModel",
            "_view_count": null,
            "_view_module": "@jupyter-widgets/base",
            "_view_module_version": "1.2.0",
            "_view_name": "LayoutView",
            "align_content": null,
            "align_items": null,
            "align_self": null,
            "border": null,
            "bottom": null,
            "display": null,
            "flex": null,
            "flex_flow": null,
            "grid_area": null,
            "grid_auto_columns": null,
            "grid_auto_flow": null,
            "grid_auto_rows": null,
            "grid_column": null,
            "grid_gap": null,
            "grid_row": null,
            "grid_template_areas": null,
            "grid_template_columns": null,
            "grid_template_rows": null,
            "height": null,
            "justify_content": null,
            "justify_items": null,
            "left": null,
            "margin": null,
            "max_height": null,
            "max_width": null,
            "min_height": null,
            "min_width": null,
            "object_fit": null,
            "object_position": null,
            "order": null,
            "overflow": null,
            "overflow_x": null,
            "overflow_y": null,
            "padding": null,
            "right": null,
            "top": null,
            "visibility": null,
            "width": null
          }
        },
        "ca25fb0a088440c596d25f522f584f0f": {
          "model_module": "@jupyter-widgets/base",
          "model_module_version": "1.2.0",
          "model_name": "LayoutModel",
          "state": {
            "_model_module": "@jupyter-widgets/base",
            "_model_module_version": "1.2.0",
            "_model_name": "LayoutModel",
            "_view_count": null,
            "_view_module": "@jupyter-widgets/base",
            "_view_module_version": "1.2.0",
            "_view_name": "LayoutView",
            "align_content": null,
            "align_items": null,
            "align_self": null,
            "border": null,
            "bottom": null,
            "display": null,
            "flex": null,
            "flex_flow": null,
            "grid_area": null,
            "grid_auto_columns": null,
            "grid_auto_flow": null,
            "grid_auto_rows": null,
            "grid_column": null,
            "grid_gap": null,
            "grid_row": null,
            "grid_template_areas": null,
            "grid_template_columns": null,
            "grid_template_rows": null,
            "height": null,
            "justify_content": null,
            "justify_items": null,
            "left": null,
            "margin": null,
            "max_height": null,
            "max_width": null,
            "min_height": null,
            "min_width": null,
            "object_fit": null,
            "object_position": null,
            "order": null,
            "overflow": null,
            "overflow_x": null,
            "overflow_y": null,
            "padding": null,
            "right": null,
            "top": null,
            "visibility": null,
            "width": null
          }
        },
        "cd1ab49636d043aeb1de9966387e0ce8": {
          "model_module": "@jupyter-widgets/controls",
          "model_module_version": "1.5.0",
          "model_name": "ProgressStyleModel",
          "state": {
            "_model_module": "@jupyter-widgets/controls",
            "_model_module_version": "1.5.0",
            "_model_name": "ProgressStyleModel",
            "_view_count": null,
            "_view_module": "@jupyter-widgets/base",
            "_view_module_version": "1.2.0",
            "_view_name": "StyleView",
            "bar_color": null,
            "description_width": ""
          }
        },
        "cd641b2069c74cfa9743d3ec0b354f16": {
          "model_module": "@jupyter-widgets/base",
          "model_module_version": "1.2.0",
          "model_name": "LayoutModel",
          "state": {
            "_model_module": "@jupyter-widgets/base",
            "_model_module_version": "1.2.0",
            "_model_name": "LayoutModel",
            "_view_count": null,
            "_view_module": "@jupyter-widgets/base",
            "_view_module_version": "1.2.0",
            "_view_name": "LayoutView",
            "align_content": null,
            "align_items": null,
            "align_self": null,
            "border": null,
            "bottom": null,
            "display": null,
            "flex": null,
            "flex_flow": null,
            "grid_area": null,
            "grid_auto_columns": null,
            "grid_auto_flow": null,
            "grid_auto_rows": null,
            "grid_column": null,
            "grid_gap": null,
            "grid_row": null,
            "grid_template_areas": null,
            "grid_template_columns": null,
            "grid_template_rows": null,
            "height": null,
            "justify_content": null,
            "justify_items": null,
            "left": null,
            "margin": null,
            "max_height": null,
            "max_width": null,
            "min_height": null,
            "min_width": null,
            "object_fit": null,
            "object_position": null,
            "order": null,
            "overflow": null,
            "overflow_x": null,
            "overflow_y": null,
            "padding": null,
            "right": null,
            "top": null,
            "visibility": null,
            "width": null
          }
        },
        "e15aeb7b35eb4b26938f436ce82c6081": {
          "model_module": "@jupyter-widgets/base",
          "model_module_version": "1.2.0",
          "model_name": "LayoutModel",
          "state": {
            "_model_module": "@jupyter-widgets/base",
            "_model_module_version": "1.2.0",
            "_model_name": "LayoutModel",
            "_view_count": null,
            "_view_module": "@jupyter-widgets/base",
            "_view_module_version": "1.2.0",
            "_view_name": "LayoutView",
            "align_content": null,
            "align_items": null,
            "align_self": null,
            "border": null,
            "bottom": null,
            "display": null,
            "flex": null,
            "flex_flow": null,
            "grid_area": null,
            "grid_auto_columns": null,
            "grid_auto_flow": null,
            "grid_auto_rows": null,
            "grid_column": null,
            "grid_gap": null,
            "grid_row": null,
            "grid_template_areas": null,
            "grid_template_columns": null,
            "grid_template_rows": null,
            "height": null,
            "justify_content": null,
            "justify_items": null,
            "left": null,
            "margin": null,
            "max_height": null,
            "max_width": null,
            "min_height": null,
            "min_width": null,
            "object_fit": null,
            "object_position": null,
            "order": null,
            "overflow": null,
            "overflow_x": null,
            "overflow_y": null,
            "padding": null,
            "right": null,
            "top": null,
            "visibility": null,
            "width": null
          }
        },
        "e23cbfe0e360400fad08e3e2a0d62f05": {
          "model_module": "@jupyter-widgets/base",
          "model_module_version": "1.2.0",
          "model_name": "LayoutModel",
          "state": {
            "_model_module": "@jupyter-widgets/base",
            "_model_module_version": "1.2.0",
            "_model_name": "LayoutModel",
            "_view_count": null,
            "_view_module": "@jupyter-widgets/base",
            "_view_module_version": "1.2.0",
            "_view_name": "LayoutView",
            "align_content": null,
            "align_items": null,
            "align_self": null,
            "border": null,
            "bottom": null,
            "display": null,
            "flex": null,
            "flex_flow": null,
            "grid_area": null,
            "grid_auto_columns": null,
            "grid_auto_flow": null,
            "grid_auto_rows": null,
            "grid_column": null,
            "grid_gap": null,
            "grid_row": null,
            "grid_template_areas": null,
            "grid_template_columns": null,
            "grid_template_rows": null,
            "height": null,
            "justify_content": null,
            "justify_items": null,
            "left": null,
            "margin": null,
            "max_height": null,
            "max_width": null,
            "min_height": null,
            "min_width": null,
            "object_fit": null,
            "object_position": null,
            "order": null,
            "overflow": null,
            "overflow_x": null,
            "overflow_y": null,
            "padding": null,
            "right": null,
            "top": null,
            "visibility": null,
            "width": null
          }
        },
        "e2d13f94aa5d4865a7e711af69191d35": {
          "model_module": "@jupyter-widgets/controls",
          "model_module_version": "1.5.0",
          "model_name": "FloatProgressModel",
          "state": {
            "_dom_classes": [],
            "_model_module": "@jupyter-widgets/controls",
            "_model_module_version": "1.5.0",
            "_model_name": "FloatProgressModel",
            "_view_count": null,
            "_view_module": "@jupyter-widgets/controls",
            "_view_module_version": "1.5.0",
            "_view_name": "ProgressView",
            "bar_style": "success",
            "description": "",
            "description_tooltip": null,
            "layout": "IPY_MODEL_e23cbfe0e360400fad08e3e2a0d62f05",
            "max": 1648877,
            "min": 0,
            "orientation": "horizontal",
            "style": "IPY_MODEL_539ca8e61a21436c93e618b3c51c6703",
            "value": 1648877
          }
        },
        "efa56d3ab8314349bd0c32a66fdb0e75": {
          "model_module": "@jupyter-widgets/base",
          "model_module_version": "1.2.0",
          "model_name": "LayoutModel",
          "state": {
            "_model_module": "@jupyter-widgets/base",
            "_model_module_version": "1.2.0",
            "_model_name": "LayoutModel",
            "_view_count": null,
            "_view_module": "@jupyter-widgets/base",
            "_view_module_version": "1.2.0",
            "_view_name": "LayoutView",
            "align_content": null,
            "align_items": null,
            "align_self": null,
            "border": null,
            "bottom": null,
            "display": null,
            "flex": null,
            "flex_flow": null,
            "grid_area": null,
            "grid_auto_columns": null,
            "grid_auto_flow": null,
            "grid_auto_rows": null,
            "grid_column": null,
            "grid_gap": null,
            "grid_row": null,
            "grid_template_areas": null,
            "grid_template_columns": null,
            "grid_template_rows": null,
            "height": null,
            "justify_content": null,
            "justify_items": null,
            "left": null,
            "margin": null,
            "max_height": null,
            "max_width": null,
            "min_height": null,
            "min_width": null,
            "object_fit": null,
            "object_position": null,
            "order": null,
            "overflow": null,
            "overflow_x": null,
            "overflow_y": null,
            "padding": null,
            "right": null,
            "top": null,
            "visibility": null,
            "width": null
          }
        }
      }
    }
  },
  "nbformat": 4,
  "nbformat_minor": 0
}
